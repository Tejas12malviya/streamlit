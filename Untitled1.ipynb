{
 "cells": [
  {
   "cell_type": "code",
   "execution_count": 1,
   "id": "b9ffb391",
   "metadata": {},
   "outputs": [
    {
     "name": "stdout",
     "output_type": "stream",
     "text": [
      "Requirement already satisfied: streamlit in /home/tejas/anaconda3/lib/python3.8/site-packages (1.18.1)\n",
      "Requirement already satisfied: blinker>=1.0.0 in /home/tejas/anaconda3/lib/python3.8/site-packages (from streamlit) (1.5)\n",
      "Requirement already satisfied: tornado>=6.0.3 in /home/tejas/.local/lib/python3.8/site-packages (from streamlit) (6.1)\n",
      "Requirement already satisfied: tzlocal>=1.1 in /home/tejas/anaconda3/lib/python3.8/site-packages (from streamlit) (4.2)\n",
      "Requirement already satisfied: watchdog in /home/tejas/anaconda3/lib/python3.8/site-packages (from streamlit) (2.1.6)\n",
      "Requirement already satisfied: altair>=3.2.0 in /home/tejas/anaconda3/lib/python3.8/site-packages (from streamlit) (4.2.2)\n",
      "Requirement already satisfied: pyarrow>=4.0 in /home/tejas/anaconda3/lib/python3.8/site-packages (from streamlit) (11.0.0)\n",
      "Requirement already satisfied: toml in /home/tejas/anaconda3/lib/python3.8/site-packages (from streamlit) (0.10.2)\n",
      "Requirement already satisfied: packaging>=14.1 in /home/tejas/.local/lib/python3.8/site-packages (from streamlit) (21.0)\n",
      "Requirement already satisfied: cachetools>=4.0 in /home/tejas/anaconda3/lib/python3.8/site-packages (from streamlit) (5.3.0)\n",
      "Requirement already satisfied: validators>=0.2 in /home/tejas/anaconda3/lib/python3.8/site-packages (from streamlit) (0.20.0)\n",
      "Requirement already satisfied: requests>=2.4 in /home/tejas/anaconda3/lib/python3.8/site-packages (from streamlit) (2.28.1)\n",
      "Requirement already satisfied: numpy in /home/tejas/.local/lib/python3.8/site-packages (from streamlit) (1.21.2)\n",
      "Requirement already satisfied: python-dateutil in /home/tejas/anaconda3/lib/python3.8/site-packages (from streamlit) (2.8.2)\n",
      "Requirement already satisfied: protobuf<4,>=3.12 in /home/tejas/anaconda3/lib/python3.8/site-packages (from streamlit) (3.20.3)\n",
      "Requirement already satisfied: pandas>=0.25 in /home/tejas/.local/lib/python3.8/site-packages (from streamlit) (1.3.3)\n",
      "Requirement already satisfied: semver in /home/tejas/anaconda3/lib/python3.8/site-packages (from streamlit) (2.13.0)\n",
      "Requirement already satisfied: importlib-metadata>=1.4 in /home/tejas/anaconda3/lib/python3.8/site-packages (from streamlit) (4.11.3)\n",
      "Requirement already satisfied: click>=7.0 in /home/tejas/anaconda3/lib/python3.8/site-packages (from streamlit) (8.0.4)\n",
      "Requirement already satisfied: pympler>=0.9 in /home/tejas/anaconda3/lib/python3.8/site-packages (from streamlit) (1.0.1)\n",
      "Requirement already satisfied: rich>=10.11.0 in /home/tejas/anaconda3/lib/python3.8/site-packages (from streamlit) (13.3.1)\n",
      "Requirement already satisfied: typing-extensions>=3.10.0.0 in /home/tejas/anaconda3/lib/python3.8/site-packages (from streamlit) (4.4.0)\n",
      "Requirement already satisfied: gitpython!=3.1.19 in /home/tejas/anaconda3/lib/python3.8/site-packages (from streamlit) (3.1.30)\n",
      "Requirement already satisfied: pydeck>=0.1.dev5 in /home/tejas/anaconda3/lib/python3.8/site-packages (from streamlit) (0.8.0)\n",
      "Requirement already satisfied: pillow>=6.2.0 in /home/tejas/anaconda3/lib/python3.8/site-packages (from streamlit) (9.3.0)\n",
      "Requirement already satisfied: jsonschema>=3.0 in /home/tejas/.local/lib/python3.8/site-packages (from altair>=3.2.0->streamlit) (3.2.0)\n",
      "Requirement already satisfied: entrypoints in /home/tejas/anaconda3/lib/python3.8/site-packages (from altair>=3.2.0->streamlit) (0.4)\n",
      "Requirement already satisfied: toolz in /home/tejas/anaconda3/lib/python3.8/site-packages (from altair>=3.2.0->streamlit) (0.12.0)\n",
      "Requirement already satisfied: jinja2 in /home/tejas/.local/lib/python3.8/site-packages (from altair>=3.2.0->streamlit) (3.0.1)\n",
      "Requirement already satisfied: gitdb<5,>=4.0.1 in /home/tejas/anaconda3/lib/python3.8/site-packages (from gitpython!=3.1.19->streamlit) (4.0.10)\n",
      "Requirement already satisfied: zipp>=0.5 in /home/tejas/anaconda3/lib/python3.8/site-packages (from importlib-metadata>=1.4->streamlit) (3.11.0)\n",
      "Requirement already satisfied: pyparsing>=2.0.2 in /home/tejas/.local/lib/python3.8/site-packages (from packaging>=14.1->streamlit) (2.4.7)\n",
      "Requirement already satisfied: pytz>=2017.3 in /home/tejas/anaconda3/lib/python3.8/site-packages (from pandas>=0.25->streamlit) (2022.7)\n",
      "Requirement already satisfied: six>=1.5 in /home/tejas/anaconda3/lib/python3.8/site-packages (from python-dateutil->streamlit) (1.16.0)\n",
      "Requirement already satisfied: charset-normalizer<3,>=2 in /home/tejas/anaconda3/lib/python3.8/site-packages (from requests>=2.4->streamlit) (2.0.4)\n",
      "Requirement already satisfied: idna<4,>=2.5 in /home/tejas/anaconda3/lib/python3.8/site-packages (from requests>=2.4->streamlit) (3.4)\n",
      "Requirement already satisfied: certifi>=2017.4.17 in /home/tejas/anaconda3/lib/python3.8/site-packages (from requests>=2.4->streamlit) (2022.12.7)\n",
      "Requirement already satisfied: urllib3<1.27,>=1.21.1 in /home/tejas/anaconda3/lib/python3.8/site-packages (from requests>=2.4->streamlit) (1.26.14)\n",
      "Requirement already satisfied: pygments<3.0.0,>=2.14.0 in /home/tejas/anaconda3/lib/python3.8/site-packages (from rich>=10.11.0->streamlit) (2.14.0)\n",
      "Requirement already satisfied: markdown-it-py<3.0.0,>=2.1.0 in /home/tejas/anaconda3/lib/python3.8/site-packages (from rich>=10.11.0->streamlit) (2.1.0)\n",
      "Requirement already satisfied: pytz-deprecation-shim in /home/tejas/anaconda3/lib/python3.8/site-packages (from tzlocal>=1.1->streamlit) (0.1.0.post0)\n",
      "Requirement already satisfied: backports.zoneinfo in /home/tejas/anaconda3/lib/python3.8/site-packages (from tzlocal>=1.1->streamlit) (0.2.1)\n",
      "Requirement already satisfied: decorator>=3.4.0 in /home/tejas/anaconda3/lib/python3.8/site-packages (from validators>=0.2->streamlit) (5.1.1)\n",
      "Requirement already satisfied: smmap<6,>=3.0.1 in /home/tejas/anaconda3/lib/python3.8/site-packages (from gitdb<5,>=4.0.1->gitpython!=3.1.19->streamlit) (5.0.0)\n",
      "Requirement already satisfied: MarkupSafe>=2.0 in /home/tejas/.local/lib/python3.8/site-packages (from jinja2->altair>=3.2.0->streamlit) (2.0.1)\n",
      "Requirement already satisfied: setuptools in /home/tejas/anaconda3/lib/python3.8/site-packages (from jsonschema>=3.0->altair>=3.2.0->streamlit) (65.6.3)\n",
      "Requirement already satisfied: pyrsistent>=0.14.0 in /home/tejas/.local/lib/python3.8/site-packages (from jsonschema>=3.0->altair>=3.2.0->streamlit) (0.18.0)\n",
      "Requirement already satisfied: attrs>=17.4.0 in /home/tejas/.local/lib/python3.8/site-packages (from jsonschema>=3.0->altair>=3.2.0->streamlit) (21.2.0)\n",
      "Requirement already satisfied: mdurl~=0.1 in /home/tejas/anaconda3/lib/python3.8/site-packages (from markdown-it-py<3.0.0,>=2.1.0->rich>=10.11.0->streamlit) (0.1.2)\n",
      "Requirement already satisfied: tzdata in /home/tejas/anaconda3/lib/python3.8/site-packages (from pytz-deprecation-shim->tzlocal>=1.1->streamlit) (2022.7)\n",
      "Note: you may need to restart the kernel to use updated packages.\n"
     ]
    }
   ],
   "source": [
    "pip install streamlit"
   ]
  },
  {
   "cell_type": "code",
   "execution_count": 2,
   "id": "c5afcd6c",
   "metadata": {},
   "outputs": [],
   "source": [
    "import streamlit as st"
   ]
  },
  {
   "cell_type": "code",
   "execution_count": null,
   "id": "132dd791",
   "metadata": {},
   "outputs": [
    {
     "name": "stdout",
     "output_type": "stream",
     "text": [
      "\u001b[0m\n",
      "\u001b[34m\u001b[1m  You can now view your Streamlit app in your browser.\u001b[0m\n",
      "\u001b[0m\n",
      "\u001b[34m  Local URL: \u001b[0m\u001b[1mhttp://localhost:8501\u001b[0m\n",
      "\u001b[34m  Network URL: \u001b[0m\u001b[1mhttp://192.168.1.13:8501\u001b[0m\n",
      "\u001b[0m\n",
      "/home/tejas/Desktop/test/python/streamlit_app.py:116: FutureWarning: Dropping of nuisance columns in DataFrame reductions (with 'numeric_only=None') is deprecated; in a future version this will raise TypeError.  Select only valid columns before calling the reduction.\n",
      "  df20=df19.mean()\n",
      "/home/tejas/Desktop/test/python/streamlit_app.py:121: FutureWarning: Dropping of nuisance columns in DataFrame reductions (with 'numeric_only=None') is deprecated; in a future version this will raise TypeError.  Select only valid columns before calling the reduction.\n",
      "  df22=df21.mean()\n",
      "/home/tejas/Desktop/test/python/streamlit_app.py:125: FutureWarning: Dropping of nuisance columns in DataFrame reductions (with 'numeric_only=None') is deprecated; in a future version this will raise TypeError.  Select only valid columns before calling the reduction.\n",
      "  df24=df23.mean()\n",
      "/home/tejas/Desktop/test/python/streamlit_app.py:129: FutureWarning: Dropping of nuisance columns in DataFrame reductions (with 'numeric_only=None') is deprecated; in a future version this will raise TypeError.  Select only valid columns before calling the reduction.\n",
      "  df26=df25.mean()\n",
      "/home/tejas/Desktop/test/python/streamlit_app.py:132: FutureWarning: Dropping of nuisance columns in DataFrame reductions (with 'numeric_only=None') is deprecated; in a future version this will raise TypeError.  Select only valid columns before calling the reduction.\n",
      "  df28=df27.mean()\n",
      "/home/tejas/Desktop/test/python/streamlit_app.py:136: FutureWarning: Dropping of nuisance columns in DataFrame reductions (with 'numeric_only=None') is deprecated; in a future version this will raise TypeError.  Select only valid columns before calling the reduction.\n",
      "  df30=df29.mean()\n",
      "/home/tejas/Desktop/test/python/streamlit_app.py:116: FutureWarning: Dropping of nuisance columns in DataFrame reductions (with 'numeric_only=None') is deprecated; in a future version this will raise TypeError.  Select only valid columns before calling the reduction.\n",
      "  df20=df19.mean()\n",
      "/home/tejas/Desktop/test/python/streamlit_app.py:121: FutureWarning: Dropping of nuisance columns in DataFrame reductions (with 'numeric_only=None') is deprecated; in a future version this will raise TypeError.  Select only valid columns before calling the reduction.\n",
      "  df22=df21.mean()\n",
      "/home/tejas/Desktop/test/python/streamlit_app.py:125: FutureWarning: Dropping of nuisance columns in DataFrame reductions (with 'numeric_only=None') is deprecated; in a future version this will raise TypeError.  Select only valid columns before calling the reduction.\n",
      "  df24=df23.mean()\n",
      "/home/tejas/Desktop/test/python/streamlit_app.py:129: FutureWarning: Dropping of nuisance columns in DataFrame reductions (with 'numeric_only=None') is deprecated; in a future version this will raise TypeError.  Select only valid columns before calling the reduction.\n",
      "  df26=df25.mean()\n",
      "/home/tejas/Desktop/test/python/streamlit_app.py:132: FutureWarning: Dropping of nuisance columns in DataFrame reductions (with 'numeric_only=None') is deprecated; in a future version this will raise TypeError.  Select only valid columns before calling the reduction.\n",
      "  df28=df27.mean()\n",
      "/home/tejas/Desktop/test/python/streamlit_app.py:136: FutureWarning: Dropping of nuisance columns in DataFrame reductions (with 'numeric_only=None') is deprecated; in a future version this will raise TypeError.  Select only valid columns before calling the reduction.\n",
      "  df30=df29.mean()\n"
     ]
    }
   ],
   "source": [
    "!streamlit run /home/tejas/Desktop/test/python/streamlit_app.py"
   ]
  },
  {
   "cell_type": "code",
   "execution_count": null,
   "id": "b3a99bff",
   "metadata": {},
   "outputs": [],
   "source": [
    "pip install extra_streamlit_components"
   ]
  },
  {
   "cell_type": "code",
   "execution_count": null,
   "id": "1592b90d",
   "metadata": {},
   "outputs": [],
   "source": [
    "pip install streamlit_javascript"
   ]
  }
 ],
 "metadata": {
  "kernelspec": {
   "display_name": "Python 3 (ipykernel)",
   "language": "python",
   "name": "python3"
  },
  "language_info": {
   "codemirror_mode": {
    "name": "ipython",
    "version": 3
   },
   "file_extension": ".py",
   "mimetype": "text/x-python",
   "name": "python",
   "nbconvert_exporter": "python",
   "pygments_lexer": "ipython3",
   "version": "3.8.11"
  }
 },
 "nbformat": 4,
 "nbformat_minor": 5
}
